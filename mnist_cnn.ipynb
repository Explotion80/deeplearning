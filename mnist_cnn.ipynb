{
  "nbformat": 4,
  "nbformat_minor": 0,
  "metadata": {
    "colab": {
      "name": "mnist_cnn.ipynb",
      "provenance": [],
      "authorship_tag": "ABX9TyPfU8yU2HH96teQQs+uycv5",
      "include_colab_link": true
    },
    "kernelspec": {
      "name": "python3",
      "display_name": "Python 3"
    },
    "accelerator": "GPU"
  },
  "cells": [
    {
      "cell_type": "markdown",
      "metadata": {
        "id": "view-in-github",
        "colab_type": "text"
      },
      "source": [
        "<a href=\"https://colab.research.google.com/github/Explotion80/deeplearning/blob/master/mnist_cnn.ipynb\" target=\"_parent\"><img src=\"https://colab.research.google.com/assets/colab-badge.svg\" alt=\"Open In Colab\"/></a>"
      ]
    },
    {
      "cell_type": "code",
      "metadata": {
        "id": "yb2J6w3XEdzQ",
        "colab_type": "code",
        "colab": {}
      },
      "source": [
        "import keras\n",
        "from keras.datasets import mnist\n",
        "from keras.models import Sequential\n",
        "from keras.layers import Dense, Flatten, Conv2D, MaxPooling2D"
      ],
      "execution_count": 0,
      "outputs": []
    },
    {
      "cell_type": "code",
      "metadata": {
        "id": "CaxuApPgEsPF",
        "colab_type": "code",
        "colab": {
          "base_uri": "https://localhost:8080/",
          "height": 55
        },
        "outputId": "e40fb42c-05eb-4db8-e8b0-cf99c302313a"
      },
      "source": [
        "(X_train, y_train), (X_test, y_test) = mnist.load_data()"
      ],
      "execution_count": 5,
      "outputs": [
        {
          "output_type": "stream",
          "text": [
            "Downloading data from https://s3.amazonaws.com/img-datasets/mnist.npz\n",
            "11493376/11490434 [==============================] - 1s 0us/step\n"
          ],
          "name": "stdout"
        }
      ]
    },
    {
      "cell_type": "code",
      "metadata": {
        "id": "EboqDUOEEykr",
        "colab_type": "code",
        "colab": {
          "base_uri": "https://localhost:8080/",
          "height": 149
        },
        "outputId": "3ef6e0aa-478a-4228-c855-2b10e7ee523e"
      },
      "source": [
        "print(X_train.shape)\n",
        "print(X_test.shape)\n",
        "print(y_train.shape)\n",
        "print(y_test.shape)\n",
        "\n",
        "print('Liczba danych treningowych:', X_train.shape[0])\n",
        "print('Liczba danych testowych:', X_test.shape[0])\n",
        "print('Rozmiar pojedynczego obrazka:', X_train[0].shape)"
      ],
      "execution_count": 6,
      "outputs": [
        {
          "output_type": "stream",
          "text": [
            "(60000, 28, 28)\n",
            "(10000, 28, 28)\n",
            "(60000,)\n",
            "(10000,)\n",
            "Liczba danych treningowych: 60000\n",
            "Liczba danych testowych: 10000\n",
            "Rozmiar pojedynczego obrazka: (28, 28)\n"
          ],
          "name": "stdout"
        }
      ]
    },
    {
      "cell_type": "code",
      "metadata": {
        "id": "7TO86GVkE-1n",
        "colab_type": "code",
        "colab": {
          "base_uri": "https://localhost:8080/",
          "height": 267
        },
        "outputId": "26ee50f6-320e-4eef-964e-e1b9eef67efc"
      },
      "source": [
        "import matplotlib.pyplot as plt\n",
        "\n",
        "plt.imshow(X_train[0], cmap='Greys')\n",
        "plt.axis('off')"
      ],
      "execution_count": 7,
      "outputs": [
        {
          "output_type": "execute_result",
          "data": {
            "text/plain": [
              "(-0.5, 27.5, 27.5, -0.5)"
            ]
          },
          "metadata": {
            "tags": []
          },
          "execution_count": 7
        },
        {
          "output_type": "display_data",
          "data": {
            "image/png": "[encoded data removed]",
            "text/plain": [
              "<Figure size 432x288 with 1 Axes>"
            ]
          },
          "metadata": {
            "tags": [],
            "needs_background": "light"
          }
        }
      ]
    },
    {
      "cell_type": "code",
      "metadata": {
        "id": "2alb6-ZkGeHZ",
        "colab_type": "code",
        "colab": {
          "base_uri": "https://localhost:8080/",
          "height": 36
        },
        "outputId": "e24eb693-61aa-4d41-bb1e-5ca2d3d44795"
      },
      "source": [
        "print(keras.backend.image_data_format())"
      ],
      "execution_count": 8,
      "outputs": [
        {
          "output_type": "stream",
          "text": [
            "channels_last\n"
          ],
          "name": "stdout"
        }
      ]
    },
    {
      "cell_type": "code",
      "metadata": {
        "id": "W7gVpIhFFIkw",
        "colab_type": "code",
        "colab": {
          "base_uri": "https://localhost:8080/",
          "height": 36
        },
        "outputId": "7f352f8f-4993-4293-962a-0ed7251e78ef"
      },
      "source": [
        "img_rows, img_cols = 28, 28\n",
        "if keras.backend.image_data_format() == 'channel_first':\n",
        "  X_train = X_train.reshape(X_train.shape[0], 1, img_rows, img_cols)\n",
        "  X_test = X_test.reshape(X_test.shape[0], 1, img_rows, img_cols)\n",
        "  input_shape = (1, img_rows, img_cols)\n",
        "else:\n",
        "  X_train = X_train.reshape(X_train.shape[0], img_rows, img_cols, 1)\n",
        "  X_test = X_test.reshape(X_test.shape[0], img_rows, img_cols, 1)\n",
        "  input_shape = (img_rows, img_cols, 1)\n",
        "\n",
        "print(input_shape)"
      ],
      "execution_count": 9,
      "outputs": [
        {
          "output_type": "stream",
          "text": [
            "(28, 28, 1)\n"
          ],
          "name": "stdout"
        }
      ]
    },
    {
      "cell_type": "code",
      "metadata": {
        "id": "EK-28X8KGA3K",
        "colab_type": "code",
        "colab": {
          "base_uri": "https://localhost:8080/",
          "height": 55
        },
        "outputId": "613a6ae3-8e6c-42fe-cea1-74f18f066484"
      },
      "source": [
        "X_train = X_train.astype('float32')\n",
        "X_test = X_test.astype('float32')\n",
        "\n",
        "X_train /= 255\n",
        "X_test /= 255\n",
        "\n",
        "print(X_train.shape)\n",
        "print(X_test.shape)"
      ],
      "execution_count": 10,
      "outputs": [
        {
          "output_type": "stream",
          "text": [
            "(60000, 28, 28, 1)\n",
            "(10000, 28, 28, 1)\n"
          ],
          "name": "stdout"
        }
      ]
    },
    {
      "cell_type": "code",
      "metadata": {
        "id": "LLsODuWIGMNV",
        "colab_type": "code",
        "colab": {
          "base_uri": "https://localhost:8080/",
          "height": 55
        },
        "outputId": "bff9cfd1-da91-49c3-e2a0-422e0e4c70f8"
      },
      "source": [
        "y_train = keras.utils.to_categorical(y_train, num_classes=10)\n",
        "y_test = keras.utils.to_categorical(y_test, num_classes=10)\n",
        "\n",
        "print(y_train.shape)\n",
        "print(y_test.shape)"
      ],
      "execution_count": 11,
      "outputs": [
        {
          "output_type": "stream",
          "text": [
            "(60000, 10)\n",
            "(10000, 10)\n"
          ],
          "name": "stdout"
        }
      ]
    },
    {
      "cell_type": "code",
      "metadata": {
        "id": "ccedpAAeH0Iu",
        "colab_type": "code",
        "colab": {
          "base_uri": "https://localhost:8080/",
          "height": 205
        },
        "outputId": "2db4aa73-5251-44f9-9b47-b6c1d5220f7b"
      },
      "source": [
        "y_train[0:10]"
      ],
      "execution_count": 12,
      "outputs": [
        {
          "output_type": "execute_result",
          "data": {
            "text/plain": [
              "array([[0., 0., 0., 0., 0., 1., 0., 0., 0., 0.],\n",
              "       [1., 0., 0., 0., 0., 0., 0., 0., 0., 0.],\n",
              "       [0., 0., 0., 0., 1., 0., 0., 0., 0., 0.],\n",
              "       [0., 1., 0., 0., 0., 0., 0., 0., 0., 0.],\n",
              "       [0., 0., 0., 0., 0., 0., 0., 0., 0., 1.],\n",
              "       [0., 0., 1., 0., 0., 0., 0., 0., 0., 0.],\n",
              "       [0., 1., 0., 0., 0., 0., 0., 0., 0., 0.],\n",
              "       [0., 0., 0., 1., 0., 0., 0., 0., 0., 0.],\n",
              "       [0., 1., 0., 0., 0., 0., 0., 0., 0., 0.],\n",
              "       [0., 0., 0., 0., 1., 0., 0., 0., 0., 0.]], dtype=float32)"
            ]
          },
          "metadata": {
            "tags": []
          },
          "execution_count": 12
        }
      ]
    },
    {
      "cell_type": "markdown",
      "metadata": {
        "id": "OzyM3mTbIHuO",
        "colab_type": "text"
      },
      "source": [
        "# Budowa modelu"
      ]
    },
    {
      "cell_type": "code",
      "metadata": {
        "id": "GSlNLJm8IJup",
        "colab_type": "code",
        "colab": {
          "base_uri": "https://localhost:8080/",
          "height": 393
        },
        "outputId": "6c8ebaa3-9f1c-45ea-ecd2-92f6163ead18"
      },
      "source": [
        "model = Sequential()\n",
        "model.add(Conv2D(filters=32, kernel_size=(3, 3), activation='relu', input_shape=(28, 28 , 1)))\n",
        "model.add(Conv2D(filters=64, kernel_size=(3, 3), activation='relu'))\n",
        "model.add(MaxPooling2D(pool_size=(2, 2)))\n",
        "model.add(Flatten())\n",
        "model.add(Dense(units=128, activation='relu'))\n",
        "model.add(Dense(units=10, activation='softmax'))\n",
        "\n",
        "model.summary()"
      ],
      "execution_count": 13,
      "outputs": [
        {
          "output_type": "stream",
          "text": [
            "Model: \"sequential_1\"\n",
            "_________________________________________________________________\n",
            "Layer (type)                 Output Shape              Param #   \n",
            "=================================================================\n",
            "conv2d_1 (Conv2D)            (None, 26, 26, 32)        320       \n",
            "_________________________________________________________________\n",
            "conv2d_2 (Conv2D)            (None, 24, 24, 64)        18496     \n",
            "_________________________________________________________________\n",
            "max_pooling2d_1 (MaxPooling2 (None, 12, 12, 64)        0         \n",
            "_________________________________________________________________\n",
            "flatten_1 (Flatten)          (None, 9216)              0         \n",
            "_________________________________________________________________\n",
            "dense_1 (Dense)              (None, 128)               1179776   \n",
            "_________________________________________________________________\n",
            "dense_2 (Dense)              (None, 10)                1290      \n",
            "=================================================================\n",
            "Total params: 1,199,882\n",
            "Trainable params: 1,199,882\n",
            "Non-trainable params: 0\n",
            "_________________________________________________________________\n"
          ],
          "name": "stdout"
        }
      ]
    },
    {
      "cell_type": "code",
      "metadata": {
        "id": "BhNQGK3gJ6Jv",
        "colab_type": "code",
        "colab": {}
      },
      "source": [
        "model.compile(optimizer='adadelta',\n",
        "             loss='categorical_crossentropy',\n",
        "             metrics=['accuracy'])"
      ],
      "execution_count": 0,
      "outputs": []
    },
    {
      "cell_type": "markdown",
      "metadata": {
        "id": "cLI2_6jMLqgV",
        "colab_type": "text"
      },
      "source": [
        "# GPU > CPU"
      ]
    },
    {
      "cell_type": "code",
      "metadata": {
        "id": "9CskrghvLbGc",
        "colab_type": "code",
        "colab": {
          "base_uri": "https://localhost:8080/",
          "height": 808
        },
        "outputId": "b2f9014c-f357-461b-c385-4318eaf74d89"
      },
      "source": [
        "history = model.fit(X_train, y_train, batch_size=128, epochs=20, validation_data=(X_test, y_test))"
      ],
      "execution_count": 16,
      "outputs": [
        {
          "output_type": "stream",
          "text": [
            "Train on 60000 samples, validate on 10000 samples\n",
            "Epoch 1/20\n",
            "60000/60000 [==============================] - 4s 61us/step - loss: 0.0091 - accuracy: 0.9974 - val_loss: 0.0352 - val_accuracy: 0.9895\n",
            "Epoch 2/20\n",
            "60000/60000 [==============================] - 4s 60us/step - loss: 0.0061 - accuracy: 0.9982 - val_loss: 0.0305 - val_accuracy: 0.9903\n",
            "Epoch 3/20\n",
            "60000/60000 [==============================] - 4s 62us/step - loss: 0.0038 - accuracy: 0.9991 - val_loss: 0.0372 - val_accuracy: 0.9908\n",
            "Epoch 4/20\n",
            "60000/60000 [==============================] - 4s 60us/step - loss: 0.0033 - accuracy: 0.9992 - val_loss: 0.0427 - val_accuracy: 0.9889\n",
            "Epoch 5/20\n",
            "60000/60000 [==============================] - 4s 60us/step - loss: 0.0019 - accuracy: 0.9995 - val_loss: 0.0391 - val_accuracy: 0.9904\n",
            "Epoch 6/20\n",
            "60000/60000 [==============================] - 4s 62us/step - loss: 9.8618e-04 - accuracy: 0.9998 - val_loss: 0.0409 - val_accuracy: 0.9910\n",
            "Epoch 7/20\n",
            "60000/60000 [==============================] - 4s 60us/step - loss: 4.4506e-04 - accuracy: 0.9999 - val_loss: 0.0424 - val_accuracy: 0.9912\n",
            "Epoch 8/20\n",
            "60000/60000 [==============================] - 4s 60us/step - loss: 2.8003e-04 - accuracy: 0.9999 - val_loss: 0.0426 - val_accuracy: 0.9908\n",
            "Epoch 9/20\n",
            "60000/60000 [==============================] - 4s 63us/step - loss: 1.3945e-04 - accuracy: 1.0000 - val_loss: 0.0442 - val_accuracy: 0.9913\n",
            "Epoch 10/20\n",
            "60000/60000 [==============================] - 4s 60us/step - loss: 5.9578e-05 - accuracy: 1.0000 - val_loss: 0.0453 - val_accuracy: 0.9916\n",
            "Epoch 11/20\n",
            "60000/60000 [==============================] - 4s 65us/step - loss: 1.7386e-04 - accuracy: 1.0000 - val_loss: 0.0455 - val_accuracy: 0.9913\n",
            "Epoch 12/20\n",
            "60000/60000 [==============================] - 4s 65us/step - loss: 2.9492e-05 - accuracy: 1.0000 - val_loss: 0.0466 - val_accuracy: 0.9914\n",
            "Epoch 13/20\n",
            "60000/60000 [==============================] - 4s 63us/step - loss: 2.2389e-05 - accuracy: 1.0000 - val_loss: 0.0477 - val_accuracy: 0.9915\n",
            "Epoch 14/20\n",
            "60000/60000 [==============================] - 4s 61us/step - loss: 1.8174e-05 - accuracy: 1.0000 - val_loss: 0.0487 - val_accuracy: 0.9916\n",
            "Epoch 15/20\n",
            "60000/60000 [==============================] - 4s 62us/step - loss: 1.5494e-05 - accuracy: 1.0000 - val_loss: 0.0492 - val_accuracy: 0.9914\n",
            "Epoch 16/20\n",
            "60000/60000 [==============================] - 4s 64us/step - loss: 1.3578e-05 - accuracy: 1.0000 - val_loss: 0.0499 - val_accuracy: 0.9913\n",
            "Epoch 17/20\n",
            "60000/60000 [==============================] - 4s 61us/step - loss: 1.2316e-05 - accuracy: 1.0000 - val_loss: 0.0502 - val_accuracy: 0.9914\n",
            "Epoch 18/20\n",
            "60000/60000 [==============================] - 4s 60us/step - loss: 1.1147e-05 - accuracy: 1.0000 - val_loss: 0.0507 - val_accuracy: 0.9915\n",
            "Epoch 19/20\n",
            "60000/60000 [==============================] - 4s 61us/step - loss: 1.0281e-05 - accuracy: 1.0000 - val_loss: 0.0511 - val_accuracy: 0.9914\n",
            "Epoch 20/20\n",
            "60000/60000 [==============================] - 4s 62us/step - loss: 9.3556e-06 - accuracy: 1.0000 - val_loss: 0.0518 - val_accuracy: 0.9912\n"
          ],
          "name": "stdout"
        }
      ]
    },
    {
      "cell_type": "code",
      "metadata": {
        "id": "SHW4OWh9LmyL",
        "colab_type": "code",
        "colab": {}
      },
      "source": [
        "def make_accuracy_plot(history):\n",
        "    \"\"\"\n",
        "    Funkcja zwraca wykres dokładności (accuracy) modelu na zbiorze treningowym\n",
        "    i walidacyjnym w bibliotece Keras.\n",
        "    \"\"\"\n",
        "    import matplotlib.pyplot as plt\n",
        "    import seaborn as sns\n",
        "    sns.set()\n",
        "    acc, val_acc = history.history['acc'], history.history['val_acc']\n",
        "    epochs = range(1, len(acc) + 1)\n",
        "\n",
        "    plt.figure(figsize=(10, 8))\n",
        "    plt.plot(epochs, acc, label='Dokładność trenowania', marker='o')\n",
        "    plt.plot(epochs, val_acc, label='Dokładność walidacji', marker='o')\n",
        "    plt.legend()\n",
        "    plt.title('Dokładność trenowania i walidacji')\n",
        "    plt.xlabel('Epoki')\n",
        "    plt.ylabel('Dokładność')\n",
        "    plt.show()\n",
        "\n",
        "\n",
        "def make_loss_plot(history):\n",
        "    \"\"\"\n",
        "    Funkcja zwraca wykres straty (loss) modelu na zbiorze treningowym\n",
        "    i walidacyjnym w bibliotece Keras.\n",
        "    \"\"\"\n",
        "    import matplotlib.pyplot as plt\n",
        "    import seaborn as sns\n",
        "    sns.set()\n",
        "    loss, val_loss = history.history['loss'], history.history['val_loss']\n",
        "    epochs = range(1, len(loss) + 1)\n",
        "    \n",
        "    plt.figure(figsize=(10, 8))\n",
        "    plt.plot(epochs, loss, label='Strata trenowania', marker='o')\n",
        "    plt.plot(epochs, val_loss, label='Strata walidacji', marker='o')\n",
        "    plt.legend()\n",
        "    plt.title('Strata trenowania i walidacji')\n",
        "    plt.xlabel('Epoki')\n",
        "    plt.ylabel('Strata')\n",
        "    plt.show()"
      ],
      "execution_count": 0,
      "outputs": []
    },
    {
      "cell_type": "code",
      "metadata": {
        "id": "cCA5SaZlMKbk",
        "colab_type": "code",
        "colab": {
          "base_uri": "https://localhost:8080/",
          "height": 306
        },
        "outputId": "c3f80164-0285-4a10-b3ed-3abc6369eb51"
      },
      "source": [
        "make_accuracy_plot(history)"
      ],
      "execution_count": 25,
      "outputs": [
        {
          "output_type": "error",
          "ename": "KeyError",
          "evalue": "ignored",
          "traceback": [
            "\u001b[0;31m---------------------------------------------------------------------------\u001b[0m",
            "\u001b[0;31mKeyError\u001b[0m                                  Traceback (most recent call last)",
            "\u001b[0;32m<ipython-input-25-b1750b5dba63>\u001b[0m in \u001b[0;36m<module>\u001b[0;34m()\u001b[0m\n\u001b[0;32m----> 1\u001b[0;31m \u001b[0mmake_accuracy_plot\u001b[0m\u001b[0;34m(\u001b[0m\u001b[0mhistory\u001b[0m\u001b[0;34m)\u001b[0m\u001b[0;34m\u001b[0m\u001b[0;34m\u001b[0m\u001b[0m\n\u001b[0m",
            "\u001b[0;32m<ipython-input-24-83793b3ed2fb>\u001b[0m in \u001b[0;36mmake_accuracy_plot\u001b[0;34m(history)\u001b[0m\n\u001b[1;32m      7\u001b[0m     \u001b[0;32mimport\u001b[0m \u001b[0mseaborn\u001b[0m \u001b[0;32mas\u001b[0m \u001b[0msns\u001b[0m\u001b[0;34m\u001b[0m\u001b[0;34m\u001b[0m\u001b[0m\n\u001b[1;32m      8\u001b[0m     \u001b[0msns\u001b[0m\u001b[0;34m.\u001b[0m\u001b[0mset\u001b[0m\u001b[0;34m(\u001b[0m\u001b[0;34m)\u001b[0m\u001b[0;34m\u001b[0m\u001b[0;34m\u001b[0m\u001b[0m\n\u001b[0;32m----> 9\u001b[0;31m     \u001b[0macc\u001b[0m\u001b[0;34m,\u001b[0m \u001b[0mval_acc\u001b[0m \u001b[0;34m=\u001b[0m \u001b[0mhistory\u001b[0m\u001b[0;34m.\u001b[0m\u001b[0mhistory\u001b[0m\u001b[0;34m[\u001b[0m\u001b[0;34m'acc'\u001b[0m\u001b[0;34m]\u001b[0m\u001b[0;34m,\u001b[0m \u001b[0mhistory\u001b[0m\u001b[0;34m.\u001b[0m\u001b[0mhistory\u001b[0m\u001b[0;34m[\u001b[0m\u001b[0;34m'val_acc'\u001b[0m\u001b[0;34m]\u001b[0m\u001b[0;34m\u001b[0m\u001b[0;34m\u001b[0m\u001b[0m\n\u001b[0m\u001b[1;32m     10\u001b[0m     \u001b[0mepochs\u001b[0m \u001b[0;34m=\u001b[0m \u001b[0mrange\u001b[0m\u001b[0;34m(\u001b[0m\u001b[0;36m1\u001b[0m\u001b[0;34m,\u001b[0m \u001b[0mlen\u001b[0m\u001b[0;34m(\u001b[0m\u001b[0macc\u001b[0m\u001b[0;34m)\u001b[0m \u001b[0;34m+\u001b[0m \u001b[0;36m1\u001b[0m\u001b[0;34m)\u001b[0m\u001b[0;34m\u001b[0m\u001b[0;34m\u001b[0m\u001b[0m\n\u001b[1;32m     11\u001b[0m \u001b[0;34m\u001b[0m\u001b[0m\n",
            "\u001b[0;31mKeyError\u001b[0m: 'acc'"
          ]
        }
      ]
    },
    {
      "cell_type": "code",
      "metadata": {
        "id": "WLADLjNEMpvw",
        "colab_type": "code",
        "colab": {
          "base_uri": "https://localhost:8080/",
          "height": 518
        },
        "outputId": "495018a0-c22a-4a0f-f627-9f60918703b8"
      },
      "source": [
        "make_loss_plot(history)"
      ],
      "execution_count": 26,
      "outputs": [
        {
          "output_type": "display_data",
          "data": {
            "image/png": "[encoded data removed]",
            "text/plain": [
              "<Figure size 720x576 with 1 Axes>"
            ]
          },
          "metadata": {
            "tags": []
          }
        }
      ]
    }
  ]
}