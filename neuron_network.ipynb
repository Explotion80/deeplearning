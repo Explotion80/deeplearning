{
  "nbformat": 4,
  "nbformat_minor": 0,
  "metadata": {
    "colab": {
      "name": "neuron_network.ipynb",
      "provenance": [],
      "authorship_tag": "ABX9TyPa8OG9cteCp5PMHnI1+GNi",
      "include_colab_link": true
    },
    "kernelspec": {
      "name": "python3",
      "display_name": "Python 3"
    }
  },
  "cells": [
    {
      "cell_type": "markdown",
      "metadata": {
        "id": "view-in-github",
        "colab_type": "text"
      },
      "source": [
        "<a href=\"https://colab.research.google.com/github/Explotion80/deeplearning/blob/master/neuron_network.ipynb\" target=\"_parent\"><img src=\"https://colab.research.google.com/assets/colab-badge.svg\" alt=\"Open In Colab\"/></a>"
      ]
    },
    {
      "cell_type": "markdown",
      "metadata": {
        "id": "-57aOp7KSq6o",
        "colab_type": "text"
      },
      "source": [
        "Sieć neuronowa - gęsta"
      ]
    },
    {
      "cell_type": "markdown",
      "metadata": {
        "id": "uY7pSN-5VU4q",
        "colab_type": "text"
      },
      "source": [
        "# Import bibliotek"
      ]
    },
    {
      "cell_type": "code",
      "metadata": {
        "id": "2Y88VHiLSUW1",
        "colab_type": "code",
        "outputId": "ebf6eb19-4d6a-4e0a-a680-d268c0385286",
        "colab": {
          "base_uri": "https://localhost:8080/",
          "height": 36
        }
      },
      "source": [
        " import keras\n",
        " from keras.datasets import mnist\n",
        " from keras.models import Sequential\n",
        " from keras.layers import Dense\n",
        " from keras.optimizers import RMSprop"
      ],
      "execution_count": 0,
      "outputs": [
        {
          "output_type": "stream",
          "text": [
            "Using TensorFlow backend.\n"
          ],
          "name": "stderr"
        }
      ]
    },
    {
      "cell_type": "markdown",
      "metadata": {
        "id": "-ieMqZaHVYFW",
        "colab_type": "text"
      },
      "source": [
        "# Dane"
      ]
    },
    {
      "cell_type": "code",
      "metadata": {
        "id": "-ecOA8YLVbMp",
        "colab_type": "code",
        "colab": {}
      },
      "source": [
        "(X_train, y_train), (X_test, y_test) = mnist.load_data()"
      ],
      "execution_count": 0,
      "outputs": []
    },
    {
      "cell_type": "code",
      "metadata": {
        "id": "Qht7i5YEVmJh",
        "colab_type": "code",
        "outputId": "2955952a-c274-4fbf-e25a-52b09413f164",
        "colab": {
          "base_uri": "https://localhost:8080/",
          "height": 36
        }
      },
      "source": [
        "X_train.shape"
      ],
      "execution_count": 0,
      "outputs": [
        {
          "output_type": "execute_result",
          "data": {
            "text/plain": [
              "(60000, 28, 28)"
            ]
          },
          "metadata": {
            "tags": []
          },
          "execution_count": 7
        }
      ]
    },
    {
      "cell_type": "markdown",
      "metadata": {
        "id": "goh5DQWOV4Xm",
        "colab_type": "text"
      },
      "source": [
        "# Eksploracja danych"
      ]
    },
    {
      "cell_type": "code",
      "metadata": {
        "id": "6mHejFCiV3WC",
        "colab_type": "code",
        "outputId": "766acd5d-e76b-4e4e-875c-e0529f4f3d2a",
        "colab": {
          "base_uri": "https://localhost:8080/",
          "height": 148
        }
      },
      "source": [
        "print(X_train.shape)\n",
        "print(X_test.shape)\n",
        "print(y_train.shape)\n",
        "print(y_test.shape)\n",
        "\n",
        "print('Liczba danych treningowych:', X_train.shape[0])\n",
        "print('Liczba danych testowych:', X_test.shape[0])\n",
        "print('Rozmiar pojedynczego obrazka:', X_train[0].shape)"
      ],
      "execution_count": 0,
      "outputs": [
        {
          "output_type": "stream",
          "text": [
            "(60000, 28, 28)\n",
            "(10000, 28, 28)\n",
            "(60000,)\n",
            "(10000,)\n",
            "Liczba danych treningowych: 60000\n",
            "Liczba danych testowych: 10000\n",
            "Rozmiar pojedynczego obrazka: (28, 28)\n"
          ],
          "name": "stdout"
        }
      ]
    },
    {
      "cell_type": "code",
      "metadata": {
        "id": "BabpZpS3Wdhf",
        "colab_type": "code",
        "outputId": "8ff39281-9fbf-4e96-af6b-34bcacd2f7df",
        "colab": {
          "base_uri": "https://localhost:8080/",
          "height": 267
        }
      },
      "source": [
        "import matplotlib.pyplot as plt\n",
        "\n",
        "plt.imshow(X_train[2], cmap='Greys')\n",
        "plt.axis('off')"
      ],
      "execution_count": 0,
      "outputs": [
        {
          "output_type": "execute_result",
          "data": {
            "text/plain": [
              "(-0.5, 27.5, 27.5, -0.5)"
            ]
          },
          "metadata": {
            "tags": []
          },
          "execution_count": 5
        },
        {
          "output_type": "display_data",
          "data": {
            "image/png": "[encoded data removed]",
            "text/plain": [
              "<Figure size 432x288 with 1 Axes>"
            ]
          },
          "metadata": {
            "tags": [],
            "needs_background": "light"
          }
        }
      ]
    },
    {
      "cell_type": "markdown",
      "metadata": {
        "id": "rBKhVSX8XgvY",
        "colab_type": "text"
      },
      "source": [
        "### Wyświetlanie kilku obiektów"
      ]
    },
    {
      "cell_type": "code",
      "metadata": {
        "id": "__GiCpktXfhT",
        "colab_type": "code",
        "outputId": "86d86363-b5ac-4581-d62a-28949bbfa85a",
        "colab": {
          "base_uri": "https://localhost:8080/",
          "height": 78
        }
      },
      "source": [
        "plt.figure(figsize=(10, 10))\n",
        "for i in range(1, 11):\n",
        "  plt.subplot(1, 10, i)\n",
        "  plt.axis('off')\n",
        "  plt.imshow(X_train[i], cmap='Greys')\n",
        "plt.show()"
      ],
      "execution_count": 0,
      "outputs": [
        {
          "output_type": "display_data",
          "data": {
            "image/png": "[encoded data removed]",
            "text/plain": [
              "<Figure size 720x720 with 10 Axes>"
            ]
          },
          "metadata": {
            "tags": [],
            "needs_background": "light"
          }
        }
      ]
    },
    {
      "cell_type": "markdown",
      "metadata": {
        "id": "bqubR8fMYM0H",
        "colab_type": "text"
      },
      "source": [
        "### Etykiety"
      ]
    },
    {
      "cell_type": "code",
      "metadata": {
        "id": "0vdZAcCnYaSG",
        "colab_type": "code",
        "outputId": "2f17fa0d-5237-44c0-e66b-8c0fd390bad1",
        "colab": {
          "base_uri": "https://localhost:8080/",
          "height": 36
        }
      },
      "source": [
        "X_train.dtype"
      ],
      "execution_count": 0,
      "outputs": [
        {
          "output_type": "execute_result",
          "data": {
            "text/plain": [
              "dtype('uint8')"
            ]
          },
          "metadata": {
            "tags": []
          },
          "execution_count": 7
        }
      ]
    },
    {
      "cell_type": "markdown",
      "metadata": {
        "id": "B_kMW_iCZyZf",
        "colab_type": "text"
      },
      "source": [
        "### Przygotowanie danych"
      ]
    },
    {
      "cell_type": "code",
      "metadata": {
        "id": "Icans3IjYISV",
        "colab_type": "code",
        "colab": {}
      },
      "source": [
        "X_train = X_train.reshape(60000, 28*28)\n",
        "X_test = X_test.reshape(10000, 28*28)\n",
        "\n",
        "X_train = X_train.astype('float32')\n",
        "X_test - X_test.astype('float32')\n",
        "\n",
        "X_train = X_train / 255\n",
        "X_test = X_test / 255"
      ],
      "execution_count": 0,
      "outputs": []
    },
    {
      "cell_type": "code",
      "metadata": {
        "id": "NDYNgXK_ZlwR",
        "colab_type": "code",
        "outputId": "8eaa9c8a-2fbb-45f7-faa1-2a04f707a240",
        "colab": {
          "base_uri": "https://localhost:8080/",
          "height": 1000
        }
      },
      "source": [
        "X_train[0]"
      ],
      "execution_count": 0,
      "outputs": [
        {
          "output_type": "execute_result",
          "data": {
            "text/plain": [
              "array([0.        , 0.        , 0.        , 0.        , 0.        ,\n",
              "       0.        , 0.        , 0.        , 0.        , 0.        ,\n",
              "       0.        , 0.        , 0.        , 0.        , 0.        ,\n",
              "       0.        , 0.        , 0.        , 0.        , 0.        ,\n",
              "       0.        , 0.        , 0.        , 0.        , 0.        ,\n",
              "       0.        , 0.        , 0.        , 0.        , 0.        ,\n",
              "       0.        , 0.        , 0.        , 0.        , 0.        ,\n",
              "       0.        , 0.        , 0.        , 0.        , 0.        ,\n",
              "       0.        , 0.        , 0.        , 0.        , 0.        ,\n",
              "       0.        , 0.        , 0.        , 0.        , 0.        ,\n",
              "       0.        , 0.        , 0.        , 0.        , 0.        ,\n",
              "       0.        , 0.        , 0.        , 0.        , 0.        ,\n",
              "       0.        , 0.        , 0.        , 0.        , 0.        ,\n",
              "       0.        , 0.        , 0.        , 0.        , 0.        ,\n",
              "       0.        , 0.        , 0.        , 0.        , 0.        ,\n",
              "       0.        , 0.        , 0.        , 0.        , 0.        ,\n",
              "       0.        , 0.        , 0.        , 0.        , 0.        ,\n",
              "       0.        , 0.        , 0.        , 0.        , 0.        ,\n",
              "       0.        , 0.        , 0.        , 0.        , 0.        ,\n",
              "       0.        , 0.        , 0.        , 0.        , 0.        ,\n",
              "       0.        , 0.        , 0.        , 0.        , 0.        ,\n",
              "       0.        , 0.        , 0.        , 0.        , 0.        ,\n",
              "       0.        , 0.        , 0.        , 0.        , 0.        ,\n",
              "       0.        , 0.        , 0.        , 0.        , 0.        ,\n",
              "       0.        , 0.        , 0.        , 0.        , 0.        ,\n",
              "       0.        , 0.        , 0.        , 0.        , 0.        ,\n",
              "       0.        , 0.        , 0.        , 0.        , 0.        ,\n",
              "       0.        , 0.        , 0.        , 0.        , 0.        ,\n",
              "       0.        , 0.        , 0.        , 0.        , 0.        ,\n",
              "       0.        , 0.        , 0.        , 0.        , 0.        ,\n",
              "       0.        , 0.        , 0.01176471, 0.07058824, 0.07058824,\n",
              "       0.07058824, 0.49411765, 0.53333336, 0.6862745 , 0.10196079,\n",
              "       0.6509804 , 1.        , 0.96862745, 0.49803922, 0.        ,\n",
              "       0.        , 0.        , 0.        , 0.        , 0.        ,\n",
              "       0.        , 0.        , 0.        , 0.        , 0.        ,\n",
              "       0.        , 0.11764706, 0.14117648, 0.36862746, 0.6039216 ,\n",
              "       0.6666667 , 0.99215686, 0.99215686, 0.99215686, 0.99215686,\n",
              "       0.99215686, 0.88235295, 0.6745098 , 0.99215686, 0.9490196 ,\n",
              "       0.7647059 , 0.2509804 , 0.        , 0.        , 0.        ,\n",
              "       0.        , 0.        , 0.        , 0.        , 0.        ,\n",
              "       0.        , 0.        , 0.        , 0.19215687, 0.93333334,\n",
              "       0.99215686, 0.99215686, 0.99215686, 0.99215686, 0.99215686,\n",
              "       0.99215686, 0.99215686, 0.99215686, 0.9843137 , 0.3647059 ,\n",
              "       0.32156864, 0.32156864, 0.21960784, 0.15294118, 0.        ,\n",
              "       0.        , 0.        , 0.        , 0.        , 0.        ,\n",
              "       0.        , 0.        , 0.        , 0.        , 0.        ,\n",
              "       0.        , 0.07058824, 0.85882354, 0.99215686, 0.99215686,\n",
              "       0.99215686, 0.99215686, 0.99215686, 0.7764706 , 0.7137255 ,\n",
              "       0.96862745, 0.94509804, 0.        , 0.        , 0.        ,\n",
              "       0.        , 0.        , 0.        , 0.        , 0.        ,\n",
              "       0.        , 0.        , 0.        , 0.        , 0.        ,\n",
              "       0.        , 0.        , 0.        , 0.        , 0.        ,\n",
              "       0.3137255 , 0.6117647 , 0.41960785, 0.99215686, 0.99215686,\n",
              "       0.8039216 , 0.04313726, 0.        , 0.16862746, 0.6039216 ,\n",
              "       0.        , 0.        , 0.        , 0.        , 0.        ,\n",
              "       0.        , 0.        , 0.        , 0.        , 0.        ,\n",
              "       0.        , 0.        , 0.        , 0.        , 0.        ,\n",
              "       0.        , 0.        , 0.        , 0.        , 0.05490196,\n",
              "       0.00392157, 0.6039216 , 0.99215686, 0.3529412 , 0.        ,\n",
              "       0.        , 0.        , 0.        , 0.        , 0.        ,\n",
              "       0.        , 0.        , 0.        , 0.        , 0.        ,\n",
              "       0.        , 0.        , 0.        , 0.        , 0.        ,\n",
              "       0.        , 0.        , 0.        , 0.        , 0.        ,\n",
              "       0.        , 0.        , 0.        , 0.        , 0.54509807,\n",
              "       0.99215686, 0.74509805, 0.00784314, 0.        , 0.        ,\n",
              "       0.        , 0.        , 0.        , 0.        , 0.        ,\n",
              "       0.        , 0.        , 0.        , 0.        , 0.        ,\n",
              "       0.        , 0.        , 0.        , 0.        , 0.        ,\n",
              "       0.        , 0.        , 0.        , 0.        , 0.        ,\n",
              "       0.        , 0.        , 0.04313726, 0.74509805, 0.99215686,\n",
              "       0.27450982, 0.        , 0.        , 0.        , 0.        ,\n",
              "       0.        , 0.        , 0.        , 0.        , 0.        ,\n",
              "       0.        , 0.        , 0.        , 0.        , 0.        ,\n",
              "       0.        , 0.        , 0.        , 0.        , 0.        ,\n",
              "       0.        , 0.        , 0.        , 0.        , 0.        ,\n",
              "       0.        , 0.13725491, 0.94509804, 0.88235295, 0.627451  ,\n",
              "       0.42352942, 0.00392157, 0.        , 0.        , 0.        ,\n",
              "       0.        , 0.        , 0.        , 0.        , 0.        ,\n",
              "       0.        , 0.        , 0.        , 0.        , 0.        ,\n",
              "       0.        , 0.        , 0.        , 0.        , 0.        ,\n",
              "       0.        , 0.        , 0.        , 0.        , 0.        ,\n",
              "       0.31764707, 0.9411765 , 0.99215686, 0.99215686, 0.46666667,\n",
              "       0.09803922, 0.        , 0.        , 0.        , 0.        ,\n",
              "       0.        , 0.        , 0.        , 0.        , 0.        ,\n",
              "       0.        , 0.        , 0.        , 0.        , 0.        ,\n",
              "       0.        , 0.        , 0.        , 0.        , 0.        ,\n",
              "       0.        , 0.        , 0.        , 0.        , 0.1764706 ,\n",
              "       0.7294118 , 0.99215686, 0.99215686, 0.5882353 , 0.10588235,\n",
              "       0.        , 0.        , 0.        , 0.        , 0.        ,\n",
              "       0.        , 0.        , 0.        , 0.        , 0.        ,\n",
              "       0.        , 0.        , 0.        , 0.        , 0.        ,\n",
              "       0.        , 0.        , 0.        , 0.        , 0.        ,\n",
              "       0.        , 0.        , 0.        , 0.0627451 , 0.3647059 ,\n",
              "       0.9882353 , 0.99215686, 0.73333335, 0.        , 0.        ,\n",
              "       0.        , 0.        , 0.        , 0.        , 0.        ,\n",
              "       0.        , 0.        , 0.        , 0.        , 0.        ,\n",
              "       0.        , 0.        , 0.        , 0.        , 0.        ,\n",
              "       0.        , 0.        , 0.        , 0.        , 0.        ,\n",
              "       0.        , 0.        , 0.        , 0.9764706 , 0.99215686,\n",
              "       0.9764706 , 0.2509804 , 0.        , 0.        , 0.        ,\n",
              "       0.        , 0.        , 0.        , 0.        , 0.        ,\n",
              "       0.        , 0.        , 0.        , 0.        , 0.        ,\n",
              "       0.        , 0.        , 0.        , 0.        , 0.        ,\n",
              "       0.        , 0.        , 0.        , 0.18039216, 0.50980395,\n",
              "       0.7176471 , 0.99215686, 0.99215686, 0.8117647 , 0.00784314,\n",
              "       0.        , 0.        , 0.        , 0.        , 0.        ,\n",
              "       0.        , 0.        , 0.        , 0.        , 0.        ,\n",
              "       0.        , 0.        , 0.        , 0.        , 0.        ,\n",
              "       0.        , 0.        , 0.        , 0.        , 0.15294118,\n",
              "       0.5803922 , 0.8980392 , 0.99215686, 0.99215686, 0.99215686,\n",
              "       0.98039216, 0.7137255 , 0.        , 0.        , 0.        ,\n",
              "       0.        , 0.        , 0.        , 0.        , 0.        ,\n",
              "       0.        , 0.        , 0.        , 0.        , 0.        ,\n",
              "       0.        , 0.        , 0.        , 0.        , 0.        ,\n",
              "       0.09411765, 0.44705883, 0.8666667 , 0.99215686, 0.99215686,\n",
              "       0.99215686, 0.99215686, 0.7882353 , 0.30588236, 0.        ,\n",
              "       0.        , 0.        , 0.        , 0.        , 0.        ,\n",
              "       0.        , 0.        , 0.        , 0.        , 0.        ,\n",
              "       0.        , 0.        , 0.        , 0.        , 0.        ,\n",
              "       0.        , 0.09019608, 0.25882354, 0.8352941 , 0.99215686,\n",
              "       0.99215686, 0.99215686, 0.99215686, 0.7764706 , 0.31764707,\n",
              "       0.00784314, 0.        , 0.        , 0.        , 0.        ,\n",
              "       0.        , 0.        , 0.        , 0.        , 0.        ,\n",
              "       0.        , 0.        , 0.        , 0.        , 0.        ,\n",
              "       0.        , 0.        , 0.07058824, 0.67058825, 0.85882354,\n",
              "       0.99215686, 0.99215686, 0.99215686, 0.99215686, 0.7647059 ,\n",
              "       0.3137255 , 0.03529412, 0.        , 0.        , 0.        ,\n",
              "       0.        , 0.        , 0.        , 0.        , 0.        ,\n",
              "       0.        , 0.        , 0.        , 0.        , 0.        ,\n",
              "       0.        , 0.        , 0.        , 0.21568628, 0.6745098 ,\n",
              "       0.8862745 , 0.99215686, 0.99215686, 0.99215686, 0.99215686,\n",
              "       0.95686275, 0.52156866, 0.04313726, 0.        , 0.        ,\n",
              "       0.        , 0.        , 0.        , 0.        , 0.        ,\n",
              "       0.        , 0.        , 0.        , 0.        , 0.        ,\n",
              "       0.        , 0.        , 0.        , 0.        , 0.        ,\n",
              "       0.        , 0.53333336, 0.99215686, 0.99215686, 0.99215686,\n",
              "       0.83137256, 0.5294118 , 0.5176471 , 0.0627451 , 0.        ,\n",
              "       0.        , 0.        , 0.        , 0.        , 0.        ,\n",
              "       0.        , 0.        , 0.        , 0.        , 0.        ,\n",
              "       0.        , 0.        , 0.        , 0.        , 0.        ,\n",
              "       0.        , 0.        , 0.        , 0.        , 0.        ,\n",
              "       0.        , 0.        , 0.        , 0.        , 0.        ,\n",
              "       0.        , 0.        , 0.        , 0.        , 0.        ,\n",
              "       0.        , 0.        , 0.        , 0.        , 0.        ,\n",
              "       0.        , 0.        , 0.        , 0.        , 0.        ,\n",
              "       0.        , 0.        , 0.        , 0.        , 0.        ,\n",
              "       0.        , 0.        , 0.        , 0.        , 0.        ,\n",
              "       0.        , 0.        , 0.        , 0.        , 0.        ,\n",
              "       0.        , 0.        , 0.        , 0.        , 0.        ,\n",
              "       0.        , 0.        , 0.        , 0.        , 0.        ,\n",
              "       0.        , 0.        , 0.        , 0.        , 0.        ,\n",
              "       0.        , 0.        , 0.        , 0.        , 0.        ,\n",
              "       0.        , 0.        , 0.        , 0.        , 0.        ,\n",
              "       0.        , 0.        , 0.        , 0.        , 0.        ,\n",
              "       0.        , 0.        , 0.        , 0.        , 0.        ,\n",
              "       0.        , 0.        , 0.        , 0.        , 0.        ,\n",
              "       0.        , 0.        , 0.        , 0.        ], dtype=float32)"
            ]
          },
          "metadata": {
            "tags": []
          },
          "execution_count": 9
        }
      ]
    },
    {
      "cell_type": "code",
      "metadata": {
        "id": "MCEbE8mKaCN6",
        "colab_type": "code",
        "colab": {}
      },
      "source": [
        "y_train = keras.utils.to_categorical(y_train, num_classes=10)\n",
        "y_test = keras.utils.to_categorical(y_test, num_classes=10)"
      ],
      "execution_count": 0,
      "outputs": []
    },
    {
      "cell_type": "code",
      "metadata": {
        "id": "spEadylVaV3G",
        "colab_type": "code",
        "outputId": "bc7a29f6-b54f-47de-8c2c-1f9ac93b93da",
        "colab": {
          "base_uri": "https://localhost:8080/",
          "height": 36
        }
      },
      "source": [
        "y_train[0]"
      ],
      "execution_count": 0,
      "outputs": [
        {
          "output_type": "execute_result",
          "data": {
            "text/plain": [
              "array([0., 0., 0., 0., 0., 1., 0., 0., 0., 0.], dtype=float32)"
            ]
          },
          "metadata": {
            "tags": []
          },
          "execution_count": 11
        }
      ]
    },
    {
      "cell_type": "markdown",
      "metadata": {
        "id": "mUOjKsmIfkUD",
        "colab_type": "text"
      },
      "source": [
        "## Budowa modelu"
      ]
    },
    {
      "cell_type": "code",
      "metadata": {
        "id": "leJBw5h4fhQ0",
        "colab_type": "code",
        "outputId": "229584a9-2781-4abd-caf3-ae2544bca5e5",
        "colab": {
          "base_uri": "https://localhost:8080/",
          "height": 279
        }
      },
      "source": [
        "model = Sequential()\n",
        "model.add(Dense(units=512, activation='relu', input_shape=(28*28,)))\n",
        "model.add(Dense(units=512, activation='relu'))\n",
        "model.add(Dense(units=10, activation='softmax'))\n",
        "\n",
        "model.summary()\n"
      ],
      "execution_count": 0,
      "outputs": [
        {
          "output_type": "stream",
          "text": [
            "Model: \"sequential_2\"\n",
            "_________________________________________________________________\n",
            "Layer (type)                 Output Shape              Param #   \n",
            "=================================================================\n",
            "dense_3 (Dense)              (None, 512)               401920    \n",
            "_________________________________________________________________\n",
            "dense_4 (Dense)              (None, 512)               262656    \n",
            "_________________________________________________________________\n",
            "dense_5 (Dense)              (None, 10)                5130      \n",
            "=================================================================\n",
            "Total params: 669,706\n",
            "Trainable params: 669,706\n",
            "Non-trainable params: 0\n",
            "_________________________________________________________________\n"
          ],
          "name": "stdout"
        }
      ]
    },
    {
      "cell_type": "code",
      "metadata": {
        "id": "nF1Sxf8Aiuyh",
        "colab_type": "code",
        "colab": {}
      },
      "source": [
        "model.compile(optimizer=RMSprop(),\n",
        "              loss='categorical_crossentropy',\n",
        "              metrics=['accuracy'])"
      ],
      "execution_count": 0,
      "outputs": []
    },
    {
      "cell_type": "markdown",
      "metadata": {
        "id": "yA7DqT5MjG2D",
        "colab_type": "text"
      },
      "source": [
        "## Trenowanie modelu"
      ]
    },
    {
      "cell_type": "code",
      "metadata": {
        "id": "TYWDYhSAjF3g",
        "colab_type": "code",
        "outputId": "f0d57820-9aae-4873-c52f-d513b42846f7",
        "colab": {
          "base_uri": "https://localhost:8080/",
          "height": 804
        }
      },
      "source": [
        "history = model.fit(X_train, y_train, batch_size=128, epochs=20, validation_data=(X_test, y_test))"
      ],
      "execution_count": 0,
      "outputs": [
        {
          "output_type": "stream",
          "text": [
            "Train on 60000 samples, validate on 10000 samples\n",
            "Epoch 1/20\n",
            "60000/60000 [==============================] - 7s 122us/step - loss: 0.0056 - accuracy: 0.9985 - val_loss: 0.1724 - val_accuracy: 0.9832\n",
            "Epoch 2/20\n",
            "60000/60000 [==============================] - 7s 123us/step - loss: 0.0049 - accuracy: 0.9987 - val_loss: 0.1913 - val_accuracy: 0.9821\n",
            "Epoch 3/20\n",
            "60000/60000 [==============================] - 7s 121us/step - loss: 0.0045 - accuracy: 0.9989 - val_loss: 0.1957 - val_accuracy: 0.9829\n",
            "Epoch 4/20\n",
            "60000/60000 [==============================] - 7s 118us/step - loss: 0.0034 - accuracy: 0.9991 - val_loss: 0.1906 - val_accuracy: 0.9838\n",
            "Epoch 5/20\n",
            "60000/60000 [==============================] - 7s 119us/step - loss: 0.0043 - accuracy: 0.9990 - val_loss: 0.1947 - val_accuracy: 0.9820\n",
            "Epoch 6/20\n",
            "60000/60000 [==============================] - 7s 119us/step - loss: 0.0052 - accuracy: 0.9990 - val_loss: 0.2012 - val_accuracy: 0.9826\n",
            "Epoch 7/20\n",
            "60000/60000 [==============================] - 7s 118us/step - loss: 0.0034 - accuracy: 0.9991 - val_loss: 0.2315 - val_accuracy: 0.9818\n",
            "Epoch 8/20\n",
            "60000/60000 [==============================] - 7s 121us/step - loss: 0.0034 - accuracy: 0.9992 - val_loss: 0.2037 - val_accuracy: 0.9821\n",
            "Epoch 9/20\n",
            "60000/60000 [==============================] - 7s 120us/step - loss: 0.0035 - accuracy: 0.9994 - val_loss: 0.2259 - val_accuracy: 0.9818\n",
            "Epoch 10/20\n",
            "60000/60000 [==============================] - 7s 118us/step - loss: 0.0021 - accuracy: 0.9995 - val_loss: 0.2305 - val_accuracy: 0.9818\n",
            "Epoch 11/20\n",
            "60000/60000 [==============================] - 7s 118us/step - loss: 0.0045 - accuracy: 0.9989 - val_loss: 0.2758 - val_accuracy: 0.9793\n",
            "Epoch 12/20\n",
            "60000/60000 [==============================] - 7s 119us/step - loss: 0.0032 - accuracy: 0.9994 - val_loss: 0.2293 - val_accuracy: 0.9836\n",
            "Epoch 13/20\n",
            "60000/60000 [==============================] - 7s 118us/step - loss: 0.0027 - accuracy: 0.9995 - val_loss: 0.2119 - val_accuracy: 0.9838\n",
            "Epoch 14/20\n",
            "60000/60000 [==============================] - 7s 119us/step - loss: 0.0021 - accuracy: 0.9995 - val_loss: 0.2090 - val_accuracy: 0.9835\n",
            "Epoch 15/20\n",
            "60000/60000 [==============================] - 7s 119us/step - loss: 0.0023 - accuracy: 0.9995 - val_loss: 0.2731 - val_accuracy: 0.9791\n",
            "Epoch 16/20\n",
            "60000/60000 [==============================] - 7s 117us/step - loss: 0.0029 - accuracy: 0.9994 - val_loss: 0.2535 - val_accuracy: 0.9820\n",
            "Epoch 17/20\n",
            "60000/60000 [==============================] - 7s 119us/step - loss: 0.0028 - accuracy: 0.9995 - val_loss: 0.2233 - val_accuracy: 0.9838\n",
            "Epoch 18/20\n",
            "60000/60000 [==============================] - 7s 119us/step - loss: 0.0027 - accuracy: 0.9994 - val_loss: 0.2336 - val_accuracy: 0.9834\n",
            "Epoch 19/20\n",
            "60000/60000 [==============================] - 7s 118us/step - loss: 0.0023 - accuracy: 0.9994 - val_loss: 0.2616 - val_accuracy: 0.9825\n",
            "Epoch 20/20\n",
            "60000/60000 [==============================] - 7s 118us/step - loss: 0.0019 - accuracy: 0.9995 - val_loss: 0.2952 - val_accuracy: 0.9832\n"
          ],
          "name": "stdout"
        }
      ]
    },
    {
      "cell_type": "code",
      "metadata": {
        "id": "OWLpgAkekpr5",
        "colab_type": "code",
        "colab": {}
      },
      "source": [
        "model.evaluate(X_test, y_test)"
      ],
      "execution_count": 0,
      "outputs": []
    },
    {
      "cell_type": "code",
      "metadata": {
        "id": "HHDaJpkim_0k",
        "colab_type": "code",
        "outputId": "760b5bc9-56ba-44ac-86c9-df1920eef385",
        "colab": {
          "base_uri": "https://localhost:8080/",
          "height": 1000
        }
      },
      "source": [
        "history.history"
      ],
      "execution_count": 0,
      "outputs": [
        {
          "output_type": "execute_result",
          "data": {
            "text/plain": [
              "{'accuracy': [0.93198335,\n",
              "  0.97471666,\n",
              "  0.9834667,\n",
              "  0.98826665,\n",
              "  0.9906333,\n",
              "  0.9923667,\n",
              "  0.9941,\n",
              "  0.9953333,\n",
              "  0.9954,\n",
              "  0.9964333,\n",
              "  0.9971833,\n",
              "  0.9974,\n",
              "  0.99765,\n",
              "  0.9978833,\n",
              "  0.9982167,\n",
              "  0.99813336,\n",
              "  0.9986,\n",
              "  0.99833333,\n",
              "  0.99825,\n",
              "  0.9984667],\n",
              " 'loss': [0.2214099719941616,\n",
              "  0.08098891456325849,\n",
              "  0.05432107031146685,\n",
              "  0.03766265066762765,\n",
              "  0.029925138301278156,\n",
              "  0.023640153081404665,\n",
              "  0.01822357653454722,\n",
              "  0.01492385336208002,\n",
              "  0.014819107374234591,\n",
              "  0.01153084716271648,\n",
              "  0.009721803140459815,\n",
              "  0.009326899943356209,\n",
              "  0.008458005526286918,\n",
              "  0.007202602147031151,\n",
              "  0.006878639816154888,\n",
              "  0.007798384686956767,\n",
              "  0.004796156685370715,\n",
              "  0.006064756748405792,\n",
              "  0.006017375983610213,\n",
              "  0.005900711989230221],\n",
              " 'val_accuracy': [0.9688000082969666,\n",
              "  0.9771000146865845,\n",
              "  0.9767000079154968,\n",
              "  0.9789000153541565,\n",
              "  0.9811999797821045,\n",
              "  0.9812999963760376,\n",
              "  0.9786999821662903,\n",
              "  0.9803000092506409,\n",
              "  0.9818999767303467,\n",
              "  0.9817000031471252,\n",
              "  0.9829999804496765,\n",
              "  0.9778000116348267,\n",
              "  0.9804999828338623,\n",
              "  0.9824000000953674,\n",
              "  0.9817000031471252,\n",
              "  0.9832000136375427,\n",
              "  0.9829999804496765,\n",
              "  0.9818000197410583,\n",
              "  0.9829000234603882,\n",
              "  0.9822999835014343],\n",
              " 'val_loss': [0.09986429419368506,\n",
              "  0.07713307773191481,\n",
              "  0.07945866536125541,\n",
              "  0.08673831239873252,\n",
              "  0.07517750688479281,\n",
              "  0.08159442566796206,\n",
              "  0.10029224204764468,\n",
              "  0.10577566479602182,\n",
              "  0.09861036578759368,\n",
              "  0.1198224431800105,\n",
              "  0.10265533380170455,\n",
              "  0.15526180169350465,\n",
              "  0.13725859230120524,\n",
              "  0.12993050166787934,\n",
              "  0.13693590031821737,\n",
              "  0.13711527408418536,\n",
              "  0.16426188312722662,\n",
              "  0.15454874045341294,\n",
              "  0.16861118838989397,\n",
              "  0.18037449900976663]}"
            ]
          },
          "metadata": {
            "tags": []
          },
          "execution_count": 24
        }
      ]
    },
    {
      "cell_type": "code",
      "metadata": {
        "id": "Al-RqpGJlPdd",
        "colab_type": "code",
        "colab": {}
      },
      "source": [
        "def make_accuracy_plot(history):\n",
        "  \"\"\"\n",
        "  Funkcja zwraca wykres straty modelu\n",
        "  \"\"\"\n",
        "\n",
        "  import matplotlib.pyplot as plt\n",
        "  import seaborn as sns\n",
        "  sns.set()\n",
        "  acc, val_acc = history.history['acc'], history.history['val_acc']\n",
        "  epochs = range(1, len(acc) +1)\n",
        "\n",
        "  plt.figure(figsize=(10, 8))\n",
        "  plt.plot(epochs, acc, label='Dokładność trenowanie', marker='o')\n",
        "  plt.plot(epochs, val_acc, label=\"Dokładność walidacji\", marker='o')\n",
        "  plt.legend()\n",
        "  plt.title('Dokładność trenowania i walidacji')\n",
        "  plt.xlabel('Epoki')\n",
        "  plt.ylabel('Dokładność')\n",
        "  plt.show()\n",
        "\n",
        "def make_loss_plot(history):\n",
        "  \"\"\"\n",
        "  Funkcja zwraca wykres straty modelu\n",
        "  \"\"\"\n",
        "\n",
        "  import matplotlib.pyplot as plt\n",
        "  import seaborn as sns\n",
        "  sns.set()\n",
        "  loss, val_loss = history.history['loss'], history.history['val_loss']\n",
        "  epochs = range(1, len(loss) +1)\n",
        "\n",
        "  plt.figure(figsize=(10, 8))\n",
        "  plt.plot(epochs, loss, label='Dokładność trenowanie', marker='o')\n",
        "  plt.plot(epochs, val_loss, label=\"Dokładność walidacji\", marker='o')\n",
        "  plt.legend()\n",
        "  plt.title('Dokładność trenowania i walidacji')\n",
        "  plt.xlabel('Epoki')\n",
        "  plt.ylabel('Dokładność')\n",
        "  plt.show()"
      ],
      "execution_count": 0,
      "outputs": []
    },
    {
      "cell_type": "code",
      "metadata": {
        "id": "1ATrgFNPmh4d",
        "colab_type": "code",
        "outputId": "297317ec-6673-4415-d81f-a7a7751f21dc",
        "colab": {
          "base_uri": "https://localhost:8080/",
          "height": 305
        }
      },
      "source": [
        "make_accuracy_plot(history)"
      ],
      "execution_count": 0,
      "outputs": [
        {
          "output_type": "error",
          "ename": "KeyError",
          "evalue": "ignored",
          "traceback": [
            "\u001b[0;31m---------------------------------------------------------------------------\u001b[0m",
            "\u001b[0;31mKeyError\u001b[0m                                  Traceback (most recent call last)",
            "\u001b[0;32m<ipython-input-63-b1750b5dba63>\u001b[0m in \u001b[0;36m<module>\u001b[0;34m()\u001b[0m\n\u001b[0;32m----> 1\u001b[0;31m \u001b[0mmake_accuracy_plot\u001b[0m\u001b[0;34m(\u001b[0m\u001b[0mhistory\u001b[0m\u001b[0;34m)\u001b[0m\u001b[0;34m\u001b[0m\u001b[0;34m\u001b[0m\u001b[0m\n\u001b[0m",
            "\u001b[0;32m<ipython-input-59-b97a583aee1d>\u001b[0m in \u001b[0;36mmake_accuracy_plot\u001b[0;34m(history)\u001b[0m\n\u001b[1;32m      7\u001b[0m   \u001b[0;32mimport\u001b[0m \u001b[0mseaborn\u001b[0m \u001b[0;32mas\u001b[0m \u001b[0msns\u001b[0m\u001b[0;34m\u001b[0m\u001b[0;34m\u001b[0m\u001b[0m\n\u001b[1;32m      8\u001b[0m   \u001b[0msns\u001b[0m\u001b[0;34m.\u001b[0m\u001b[0mset\u001b[0m\u001b[0;34m(\u001b[0m\u001b[0;34m)\u001b[0m\u001b[0;34m\u001b[0m\u001b[0;34m\u001b[0m\u001b[0m\n\u001b[0;32m----> 9\u001b[0;31m   \u001b[0macc\u001b[0m\u001b[0;34m,\u001b[0m \u001b[0mval_acc\u001b[0m \u001b[0;34m=\u001b[0m \u001b[0mhistory\u001b[0m\u001b[0;34m.\u001b[0m\u001b[0mhistory\u001b[0m\u001b[0;34m[\u001b[0m\u001b[0;34m'acc'\u001b[0m\u001b[0;34m]\u001b[0m\u001b[0;34m,\u001b[0m \u001b[0mhistory\u001b[0m\u001b[0;34m.\u001b[0m\u001b[0mhistory\u001b[0m\u001b[0;34m[\u001b[0m\u001b[0;34m'val_acc'\u001b[0m\u001b[0;34m]\u001b[0m\u001b[0;34m\u001b[0m\u001b[0;34m\u001b[0m\u001b[0m\n\u001b[0m\u001b[1;32m     10\u001b[0m   \u001b[0mepochs\u001b[0m \u001b[0;34m=\u001b[0m \u001b[0mrange\u001b[0m\u001b[0;34m(\u001b[0m\u001b[0;36m1\u001b[0m\u001b[0;34m,\u001b[0m \u001b[0mlen\u001b[0m\u001b[0;34m(\u001b[0m\u001b[0macc\u001b[0m\u001b[0;34m)\u001b[0m \u001b[0;34m+\u001b[0m\u001b[0;36m1\u001b[0m\u001b[0;34m)\u001b[0m\u001b[0;34m\u001b[0m\u001b[0;34m\u001b[0m\u001b[0m\n\u001b[1;32m     11\u001b[0m \u001b[0;34m\u001b[0m\u001b[0m\n",
            "\u001b[0;31mKeyError\u001b[0m: 'acc'"
          ]
        }
      ]
    },
    {
      "cell_type": "code",
      "metadata": {
        "id": "GkJH3446mlhp",
        "colab_type": "code",
        "outputId": "4d5c845d-04e3-4723-b040-7f69158fa8db",
        "colab": {
          "base_uri": "https://localhost:8080/",
          "height": 518
        }
      },
      "source": [
        "make_loss_plot(history)"
      ],
      "execution_count": 0,
      "outputs": [
        {
          "output_type": "display_data",
          "data": {
            "image/png": "[encoded data removed]",
            "text/plain": [
              "<Figure size 720x576 with 1 Axes>"
            ]
          },
          "metadata": {
            "tags": []
          }
        }
      ]
    }
  ]
}