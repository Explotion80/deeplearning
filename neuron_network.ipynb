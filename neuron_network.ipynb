{
  "nbformat": 4,
  "nbformat_minor": 0,
  "metadata": {
    "colab": {
      "name": "neuron_network.ipynb",
      "provenance": [],
      "authorship_tag": "ABX9TyPbXt9LDFHhD2ZZbePaGgnG",
      "include_colab_link": true
    },
    "kernelspec": {
      "name": "python3",
      "display_name": "Python 3"
    }
  },
  "cells": [
    {
      "cell_type": "markdown",
      "metadata": {
        "id": "view-in-github",
        "colab_type": "text"
      },
      "source": [
        "<a href=\"https://colab.research.google.com/github/Explotion80/deeplearning/blob/master/neuron_network.ipynb\" target=\"_parent\"><img src=\"https://colab.research.google.com/assets/colab-badge.svg\" alt=\"Open In Colab\"/></a>"
      ]
    },
    {
      "cell_type": "markdown",
      "metadata": {
        "id": "-57aOp7KSq6o",
        "colab_type": "text"
      },
      "source": [
        "Sieć neuronowa - gęsta"
      ]
    },
    {
      "cell_type": "code",
      "metadata": {
        "id": "2Y88VHiLSUW1",
        "colab_type": "code",
        "colab": {
          "base_uri": "https://localhost:8080/",
          "height": 36
        },
        "outputId": "5a0be140-424b-4269-b37a-fc047e703115"
      },
      "source": [
        " import keras\n",
        " from keras.datasets import mnist\n",
        " from keras.models import Sequential\n",
        " from keras.layers import Dense\n",
        " from keras.optimizers import RMSprop"
      ],
      "execution_count": 4,
      "outputs": [
        {
          "output_type": "stream",
          "text": [
            "Using TensorFlow backend.\n"
          ],
          "name": "stderr"
        }
      ]
    }
  ]
}